{
 "cells": [
  {
   "cell_type": "markdown",
   "metadata": {},
   "source": [
    "# Multivariate Regression\n",
    "\n",
    "This is similar to linear regression, the only difference is that there are multiple features on which the the output is depended. The equation for linear regression is:\n",
    "## Y = α + βX + e\n",
    "where, β is the slope and α is the y intercept\n",
    "\n",
    "The equation for polynomial regression is:\n",
    "## Y = α + β1X1 + β2X2 +β3X3 + ...... + βnXn + e\n",
    "where, βn are the slopes which make up for that individual feature and α is the y intercept.\n",
    "\n",
    "In this instance we'll predict the pressure a plastic can bear given the strength and temperature of that plastic.\n",
    "Without going into technicalities of materials we'll just train the model to learn and try to predict the correct answer, if there is some error in the value then it would be accouted and the model would be updated to get a better answer. We have a dataset of different materials of plastic and their properties which will be accounted as features and pressure a y. \n",
    "\n",
    "So, to write in the array it'll be\n",
    "\n",
    "beta = [alpha, beta_1, ..., beta_n]\n",
    "x_i = [1, x_i1, ..., x_in]\n",
    "\n",
    "and then we'll take the dot product of it to get what we want."
   ]
  },
  {
   "cell_type": "code",
   "execution_count": 9,
   "metadata": {},
   "outputs": [
    {
     "name": "stdout",
     "output_type": "stream",
     "text": [
      "   Strength  Temperature  Pressure\n",
      "0      30.7          240        16\n",
      "1      24.7          250        18\n",
      "2      30.6          260        16\n",
      "3      32.8          240        10\n",
      "4      20.7          240        20\n"
     ]
    }
   ],
   "source": [
    "import numpy as np #importing numpy library which will allow us to mathematical operations on arrays.\n",
    "import pandas as pd #importing pandas library which is very useful for data manipulation and analyis.\n",
    "import matplotlib.pyplot as plt #importing matplotlib library used for plotting graphs.\n",
    "\n",
    "#reading data\n",
    "df = pd.read_csv('address to the data file')\n",
    "print(df.head()) #printing the dataframe\n",
    "\n",
    "# mean normalization\n",
    "df = (df - df.mean())/df.std()\n",
    "\n",
    "#setting the matrixes\n",
    "X = df.iloc[:,0:2] #indexing\n",
    "ones = np.ones([X.shape[0],1]) #creating an array of 1s of size as that of X\n",
    "X = np.concatenate((ones,X),axis=1) #concatinating 1s array and X because of the equation of multiple regression.\n",
    "\n",
    "y = df.iloc[:,2:3].values #indexing\n",
    "theta = np.zeros([1,3]) #creating an array of 0s\n",
    "\n"
   ]
  },
  {
   "cell_type": "markdown",
   "metadata": {},
   "source": [
    "# Least Square Model\n",
    "Now we'll use least square i.e sum of squared error to minimize the error and we cannot do that manually so we'll use gradient descent to find the minima in the error and give the result.\n",
    "\n",
    "### computeCost\n",
    "It is the error function which calculates the error and returns it, further this cost is used in the gradientDescent function.\n",
    "\n",
    "### gradientDescent\n",
    "It check for minimum value of error, if the current error is greater than the previous error then it'll in the take a step in the opposite direction of the slpoe to find the minimum error basically it is the function which iterates through the array to find the local minima.\n",
    "\n",
    "\n",
    "# Hyperparameter\n",
    "These are the parameters which we tune to get a perfect model. Here we've used 2 hyperparameters:\n",
    "\n",
    "### Learning rate\n",
    "It is denoted by alpha in this program, I found this explanation in a medium post by Hafidz Zulkifli and I thought nobody can explain better than this so here it is:\n",
    "Learning rate is a hyper-parameter that controls how much we are adjusting the weights of our network with respect the loss gradient. The lower the value, the slower we travel along the downward slope. While this might be a good idea (using a low learning rate) in terms of making sure that we do not miss any local minima, it could also mean that we’ll be taking a long time to converge — especially if we get stuck on a plateau region.\n",
    "\n",
    "### Epochs\n",
    "It is denoted by iters in this program, it is basically the number of times we'll search for minimum error or number of times we'll do gradient descent."
   ]
  },
  {
   "cell_type": "code",
   "execution_count": 10,
   "metadata": {
    "scrolled": true
   },
   "outputs": [
    {
     "name": "stdout",
     "output_type": "stream",
     "text": [
      "final cost:  0.10486142531137375\n"
     ]
    }
   ],
   "source": [
    "#computecost\n",
    "def computeCost(X,y,theta):\n",
    "    tobesummed = np.power(((X @ theta.T)-y),2)\n",
    "    return np.sum(tobesummed)/(2 * len(X))\n",
    "\n",
    "def gradientDescent(X,y,theta,iters,alpha):\n",
    "    cost = np.zeros(iters)\n",
    "    for i in range(iters):\n",
    "        theta = theta - (alpha/len(X)) * np.sum(X * (X @ theta.T - y), axis=0)\n",
    "        cost[i] = computeCost(X, y, theta)\n",
    "    \n",
    "    return theta,cost\n",
    "\n",
    "#set hyper parameters\n",
    "alpha = 0.01\n",
    "iters = 1500\n",
    "\n",
    "g,cost = gradientDescent(X,y,theta,iters,alpha)\n",
    "\n",
    "finalCost = computeCost(X,y,g)\n",
    "print('final cost: ',finalCost)"
   ]
  },
  {
   "cell_type": "code",
   "execution_count": 11,
   "metadata": {},
   "outputs": [
    {
     "data": {
      "text/plain": [
       "Text(0.5, 1.0, 'Error vs. Training Epoch')"
      ]
     },
     "execution_count": 11,
     "metadata": {},
     "output_type": "execute_result"
    },
    {
     "data": {
      "image/png": "[encoded data removed]",
      "text/plain": [
       "<Figure size 432x288 with 1 Axes>"
      ]
     },
     "metadata": {
      "needs_background": "light"
     },
     "output_type": "display_data"
    }
   ],
   "source": [
    "#Plotting the graph\n",
    "fig, ax = plt.subplots()  \n",
    "ax.plot(np.arange(iters), cost, 'r')  \n",
    "ax.set_xlabel('Iterations')  \n",
    "ax.set_ylabel('Cost')  \n",
    "ax.set_title('Error vs. Training Epoch') "
   ]
  }
 ],
 "metadata": {
  "kernelspec": {
   "display_name": "Python 3",
   "language": "python",
   "name": "python3"
  },
  "language_info": {
   "codemirror_mode": {
    "name": "ipython",
    "version": 3
   },
   "file_extension": ".py",
   "mimetype": "text/x-python",
   "name": "python",
   "nbconvert_exporter": "python",
   "pygments_lexer": "ipython3",
   "version": "3.6.6"
  }
 },
 "nbformat": 4,
 "nbformat_minor": 2
}
